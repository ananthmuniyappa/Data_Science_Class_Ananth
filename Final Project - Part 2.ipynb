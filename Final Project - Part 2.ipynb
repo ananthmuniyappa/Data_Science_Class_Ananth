{
 "cells": [
  {
   "cell_type": "markdown",
   "metadata": {},
   "source": [
    "Everday several people (non sommaliers) go to restaurants and wine stores and select a bottle without the backing of any data analysis. They are generally not loyal to any specific label, and are making a choice compltelty based with the end goal of best quality. However this rarely ends in success as the customer is not incorporating any predictors to purshase a bottle of the highest quality, resulting in $ being spent on sub-optimal products.\n",
    "\n",
    "By using several predictors, the consituents on a particular red wine such as levels of: alcohol, sulphates, chlorides, density, pH, sugar and acidity...we will output a quality rating of the particular wine.\n",
    "\n",
    "Here is the dataset:\n",
    "https://www.kaggle.com/uciml/red-wine-quality-cortez-et-al-2009/data\n",
    "\n",
    "Being a frequent wine drinker buyer, and seeing several people around me order wine I realize the selection process is sub optimal. If a consumer is unfamiliar with a particular label he/she is essentially flying blind. More than one factor determines the quality of the bottle and usually the constomer is not familiar on how to integrate all these determinants to pick a quality bottle.\n",
    "\n",
    "A simply logisitc regression on the predictors will be place start to check on the siginificance of the predictors.\n",
    "Running a knn is also a good idea, as we can see if there are clustering pattern within wines of similar qualities. Instead of using a linear scale we will be useing 3 groups (good, average, poor).\n",
    "Thinking through what other models would be best for this data and analysis.\n",
    "\n",
    "Will be encoutering some issues with the data set, cleaning and modelling:\n",
    "-the data might not be an even distribution across the 1-10 scale.\n",
    "-the prices of the wines are not in the dataset, so could be missing an important variable.\n",
    "-good chance of covariance across these predictors\n",
    "-the wines could al be from just genres of red, or from one local region. Making the model inapplicable for a global selection."
   ]
  },
  {
   "cell_type": "code",
   "execution_count": null,
   "metadata": {
    "collapsed": true
   },
   "outputs": [],
   "source": []
  }
 ],
 "metadata": {
  "kernelspec": {
   "display_name": "Python 2",
   "language": "python",
   "name": "python2"
  },
  "language_info": {
   "codemirror_mode": {
    "name": "ipython",
    "version": 2
   },
   "file_extension": ".py",
   "mimetype": "text/x-python",
   "name": "python",
   "nbconvert_exporter": "python",
   "pygments_lexer": "ipython2",
   "version": "2.7.13"
  }
 },
 "nbformat": 4,
 "nbformat_minor": 2
}
