{
 "cells": [
  {
   "cell_type": "markdown",
   "metadata": {},
   "source": [
    "# Project 4\n",
    "\n",
    "In this project, you will summarize and present your analysis from Projects 1-3."
   ]
  },
  {
   "cell_type": "code",
   "execution_count": 5,
   "metadata": {
    "collapsed": false
   },
   "outputs": [],
   "source": [
    "import pandas as pd\n",
    "import numpy as np\n",
    "import statsmodels.api as sm\n",
    "\n",
    "df_raw = pd.read_csv(\"../assets/admissions.csv\")"
   ]
  },
  {
   "cell_type": "markdown",
   "metadata": {},
   "source": [
    "### Intro: Write a problem Statement/ Specific Aim for this project"
   ]
  },
  {
   "cell_type": "markdown",
   "metadata": {},
   "source": [
    "Answer: We want to find what predictors (GRE, GPA, prestige) are statistically significant to a candidates admission."
   ]
  },
  {
   "cell_type": "markdown",
   "metadata": {},
   "source": [
    "### Dataset:  Write up a description of your data and any cleaning that was completed"
   ]
  },
  {
   "cell_type": "markdown",
   "metadata": {},
   "source": [
    "Answer: Clean the data by taking out any observations that have a null values. The dataset has 400 applicable observations with the folloing variables: GRE, GPA, prestive and admission."
   ]
  },
  {
   "cell_type": "markdown",
   "metadata": {
    "collapsed": true
   },
   "source": [
    "### Demo: Provide a table that explains the data by admission status"
   ]
  },
  {
   "cell_type": "markdown",
   "metadata": {},
   "source": [
    "Mean (STD) or counts by admission status for each variable \n",
    "\n",
    "| Not Admitted | Admitted\n",
    "---| ---|---\n",
    "GPA | mean(std)  | mean(std)\n",
    "GRE |mean(std) | mean(std)\n",
    "Prestige 1 | frequency (%) | frequency (%)\n",
    "Prestige 2 | frequency (%) | frequency (%)\n",
    "Prestige 3 |frequency (%) | frequency (%)\n",
    "Prestige 4 |frequency (%) | frequency (%)"
   ]
  },
  {
   "cell_type": "code",
   "execution_count": 47,
   "metadata": {
    "collapsed": false
   },
   "outputs": [
    {
     "name": "stdout",
     "output_type": "stream",
     "text": [
      "   admit    gre   gpa  prestige\n",
      "0      0  380.0  3.61       3.0\n",
      "1      1  660.0  3.67       3.0\n",
      "2      1  800.0  4.00       1.0\n",
      "3      1  640.0  3.19       4.0\n",
      "4      0  520.0  2.93       4.0\n",
      "mean GPA\n",
      "admit\n",
      "0    3.347159\n",
      "1    3.489206\n",
      "Name: gpa, dtype: float64\n",
      "std GPA\n",
      "admit\n",
      "0    0.376355\n",
      "1    0.371655\n",
      "Name: gpa, dtype: float64\n",
      "mean GRE\n",
      "admit\n",
      "0    573.579336\n",
      "1    618.571429\n",
      "Name: gre, dtype: float64\n",
      "std GRE\n",
      "admit\n",
      "0    116.052798\n",
      "1    109.257233\n",
      "Name: gre, dtype: float64\n"
     ]
    }
   ],
   "source": [
    "#clean dataframe\n",
    "df = df_raw.dropna()\n",
    "print df.head()\n",
    "#change presitge scores to dummies\n",
    "df.prestige = df.prestige.astype(int)\n",
    "df_prestige = pd.get_dummies(df.prestige, prefix = 'prestige')\n",
    "\n",
    "\n",
    "#means and std of scores\n",
    "print \"mean GPA\"\n",
    "print df.groupby(['admit']).gpa.mean()\n",
    "print \"std GPA\"\n",
    "print df.groupby(['admit']).gpa.std()\n",
    "print \"mean GRE\"\n",
    "print df.groupby(['admit']).gre.mean()\n",
    "print \"std GRE\"\n",
    "print df.groupby(['admit']).gre.std()\n"
   ]
  },
  {
   "cell_type": "code",
   "execution_count": 56,
   "metadata": {
    "collapsed": false
   },
   "outputs": [
    {
     "name": "stdout",
     "output_type": "stream",
     "text": [
      "   admit    gre   gpa  prestige_1  prestige_2  prestige_3  prestige_4\n",
      "0      0  380.0  3.61           0           0           1           0\n",
      "1      1  660.0  3.67           0           0           1           0\n",
      "2      1  800.0  4.00           1           0           0           0\n",
      "3      1  640.0  3.19           0           0           0           1\n",
      "4      0  520.0  2.93           0           0           0           1\n",
      "admit              0         1\n",
      "prestige_1                    \n",
      "1           0.070529  0.083123\n",
      "admit              0         1\n",
      "prestige_2                    \n",
      "1           0.239295  0.133501\n",
      "admit              0         1\n",
      "prestige_3                    \n",
      "1           0.234257  0.070529\n",
      "admit              0         1\n",
      "prestige_4                    \n",
      "1           0.138539  0.030227\n"
     ]
    }
   ],
   "source": [
    "#frequncies for prestige\n",
    "data = df[['admit', 'gre', 'gpa']].join(df_prestige.loc[:,])\n",
    "print data.head()\n",
    "p1 = pd.crosstab(data.admit, data.prestige_1 , normalize = 'all')\n",
    "p1_T = p1.T.drop(p1.T.index[0])\n",
    "print p1_T\n",
    "p2 = pd.crosstab(data.admit, data.prestige_2, normalize = 'all')\n",
    "p2_T = p2.T.drop(p2.T.index[0])\n",
    "print p2_T\n",
    "p3 = pd.crosstab(data.admit, data.prestige_3, normalize = 'all')\n",
    "p3_T = p3.T.drop(p3.T.index[0])\n",
    "print p3_T\n",
    "p4 = pd.crosstab(data.admit, data.prestige_4, normalize = 'all')\n",
    "p4_T = p4.T.drop(p3.T.index[0])\n",
    "print p4_T"
   ]
  },
  {
   "cell_type": "markdown",
   "metadata": {},
   "source": [
    "### Methods: Write up the methods used in your analysis"
   ]
  },
  {
   "cell_type": "markdown",
   "metadata": {},
   "source": [
    "Answer: to sort the GRE and GPA into the admit and not admitted categories used the groupby method. For the frequency analysis across the 4 prestige dummy variales used the crosstab method. In project 3 ran the logisitic regression to determine the factor association of the various predictors on the candidates admission."
   ]
  },
  {
   "cell_type": "markdown",
   "metadata": {},
   "source": [
    "### Results: Write up your results"
   ]
  },
  {
   "cell_type": "markdown",
   "metadata": {},
   "source": [
    "Answer: From the frequency analysis we just ran, we can see that the odds of a candidate being admitted drop as we go down from prestige 1 (.8/.7) methodically down to prestige 4 (.03/13)."
   ]
  },
  {
   "cell_type": "markdown",
   "metadata": {},
   "source": [
    "### Visuals: Provide a table or visualization of these results"
   ]
  },
  {
   "cell_type": "markdown",
   "metadata": {},
   "source": [
    "provided in Project 3"
   ]
  },
  {
   "cell_type": "markdown",
   "metadata": {},
   "source": [
    "### Discussion: Write up your discussion and future steps"
   ]
  },
  {
   "cell_type": "markdown",
   "metadata": {},
   "source": [
    "Answer: would like to assess the co-lineraity of these predictors. Also would like to have a larger range of predictors. Can also use other statistical methods such as clustering, KNN or decision tress in this process."
   ]
  },
  {
   "cell_type": "code",
   "execution_count": null,
   "metadata": {
    "collapsed": true
   },
   "outputs": [],
   "source": []
  }
 ],
 "metadata": {
  "kernelspec": {
   "display_name": "Python 2",
   "language": "python",
   "name": "python2"
  },
  "language_info": {
   "codemirror_mode": {
    "name": "ipython",
    "version": 2
   },
   "file_extension": ".py",
   "mimetype": "text/x-python",
   "name": "python",
   "nbconvert_exporter": "python",
   "pygments_lexer": "ipython2",
   "version": "2.7.13"
  }
 },
 "nbformat": 4,
 "nbformat_minor": 0
}
